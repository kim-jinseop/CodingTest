{
  "nbformat": 4,
  "nbformat_minor": 0,
  "metadata": {
    "colab": {
      "name": "6_1.ipynb",
      "provenance": [],
      "authorship_tag": "ABX9TyP50QO2rA4llyzM+Fwf0Hyn",
      "include_colab_link": true
    },
    "kernelspec": {
      "name": "python3",
      "display_name": "Python 3"
    },
    "language_info": {
      "name": "python"
    }
  },
  "cells": [
    {
      "cell_type": "markdown",
      "metadata": {
        "id": "view-in-github",
        "colab_type": "text"
      },
      "source": [
        "<a href=\"https://colab.research.google.com/github/kim-jinseop/CodingTest/blob/main/6_1.ipynb\" target=\"_parent\"><img src=\"https://colab.research.google.com/assets/colab-badge.svg\" alt=\"Open In Colab\"/></a>"
      ]
    },
    {
      "cell_type": "code",
      "execution_count": null,
      "metadata": {
        "id": "1MP6T0zan2Nx"
      },
      "outputs": [],
      "source": [
        "\n",
        "\n",
        "# 2022년 08 29 부스트캠프합격 이유로 해당 프로젝트 보류\n",
        "\n",
        "# 비지도학습\n",
        "\n",
        "# 군집 알고리즘"
      ]
    }
  ]
}